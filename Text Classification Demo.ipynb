{
 "cells": [
  {
   "cell_type": "markdown",
   "source": [
    "# Text Classifier "
   ],
   "metadata": {}
  },
  {
   "cell_type": "markdown",
   "source": [
    "Ce notebook est divisé en deux parties, la première porte sur de la classification de texte sur un dataset prévu à cet effet par scikit-learn, 20newsgroups. La seconde sur la classification de tickets de supports récupérés chez Microsoft.  \n",
    "La première partie sert à mettre en évidence les différentes étapes du traitement de données pour la classification de texte. La seconde vise à appliquer ces méthodes à des données réelles et comparer les différentes approches."
   ],
   "metadata": {}
  },
  {
   "cell_type": "markdown",
   "source": [
    "## 20newsgroups Dataset - Démonstration de classification\n",
    "### Loading the Dataset"
   ],
   "metadata": {}
  },
  {
   "cell_type": "code",
   "execution_count": 1,
   "source": [
    "# Import des bibliothèques utiles pour la première partie du notebook.\r\n",
    "import numpy as np\r\n",
    "\r\n",
    "from sklearn.datasets import fetch_20newsgroups\r\n",
    "from sklearn.feature_extraction.text import CountVectorizer, TfidfTransformer\r\n",
    "from sklearn.naive_bayes import MultinomialNB\r\n",
    "from sklearn.linear_model import SGDClassifier\r\n",
    "from sklearn.pipeline import Pipeline\r\n",
    "from sklearn.model_selection import GridSearchCV\r\n",
    "\r\n",
    "# On charge uniquement les données d'entrainement pour le moment\r\n",
    "twenty_train = fetch_20newsgroups(subset = 'train', shuffle = True) "
   ],
   "outputs": [],
   "metadata": {}
  },
  {
   "cell_type": "code",
   "execution_count": 2,
   "source": [
    "# Afficher les catégories\r\n",
    "twenty_train.target_names"
   ],
   "outputs": [
    {
     "output_type": "execute_result",
     "data": {
      "text/plain": [
       "['alt.atheism',\n",
       " 'comp.graphics',\n",
       " 'comp.os.ms-windows.misc',\n",
       " 'comp.sys.ibm.pc.hardware',\n",
       " 'comp.sys.mac.hardware',\n",
       " 'comp.windows.x',\n",
       " 'misc.forsale',\n",
       " 'rec.autos',\n",
       " 'rec.motorcycles',\n",
       " 'rec.sport.baseball',\n",
       " 'rec.sport.hockey',\n",
       " 'sci.crypt',\n",
       " 'sci.electronics',\n",
       " 'sci.med',\n",
       " 'sci.space',\n",
       " 'soc.religion.christian',\n",
       " 'talk.politics.guns',\n",
       " 'talk.politics.mideast',\n",
       " 'talk.politics.misc',\n",
       " 'talk.religion.misc']"
      ]
     },
     "metadata": {},
     "execution_count": 2
    }
   ],
   "metadata": {}
  },
  {
   "cell_type": "code",
   "execution_count": 3,
   "source": [
    "# Afficher la première ligne des 3 premiers fichiers\r\n",
    "for i in range(3):\r\n",
    "    print(f'\\nLine {i}')\r\n",
    "    print('\\n'.join(twenty_train.data[i].split('\\n')[:3]))"
   ],
   "outputs": [
    {
     "output_type": "stream",
     "name": "stdout",
     "text": [
      "\n",
      "Line 0\n",
      "From: lerxst@wam.umd.edu (where's my thing)\n",
      "Subject: WHAT car is this!?\n",
      "Nntp-Posting-Host: rac3.wam.umd.edu\n",
      "\n",
      "Line 1\n",
      "From: guykuo@carson.u.washington.edu (Guy Kuo)\n",
      "Subject: SI Clock Poll - Final Call\n",
      "Summary: Final call for SI clock reports\n",
      "\n",
      "Line 2\n",
      "From: twillis@ec.ecn.purdue.edu (Thomas E Willis)\n",
      "Subject: PB questions...\n",
      "Organization: Purdue University Engineering Computer Network\n"
     ]
    }
   ],
   "metadata": {}
  },
  {
   "cell_type": "markdown",
   "source": [
    "### Extracting features from text files"
   ],
   "metadata": {}
  },
  {
   "cell_type": "markdown",
   "source": [
    "Using Bag of Word technique to create de dictionnary of the words present in our files and then vectorize our text."
   ],
   "metadata": {}
  },
  {
   "cell_type": "code",
   "execution_count": 4,
   "source": [
    "count_vect = CountVectorizer()\r\n",
    "# Crée le dictionnaire et retourne une matrice Document - Terme\r\n",
    "X_train_counts = count_vect.fit_transform(twenty_train.data)\r\n",
    "print(X_train_counts.shape)"
   ],
   "outputs": [
    {
     "output_type": "stream",
     "name": "stdout",
     "text": [
      "(11314, 130107)\n"
     ]
    }
   ],
   "metadata": {}
  },
  {
   "cell_type": "markdown",
   "source": [
    "La matrice est donc de taille (nombre_documents, nombre_features).  \n",
    "Par ailleurs, de cette façon, les longs documents ont plus de poids que les courts. Les mots fréquents comme \"the\", \"is\"... devraient aussi avoir un poids réduit.  \n",
    "Cela s'appelle TF-IDF : Term Frequency times Inverse Document Frequency."
   ],
   "metadata": {}
  },
  {
   "cell_type": "code",
   "execution_count": 5,
   "source": [
    "tfidf_transformer = TfidfTransformer()\r\n",
    "X_train_tfidf = tfidf_transformer.fit_transform(X_train_counts)\r\n",
    "X_train_tfidf.shape"
   ],
   "outputs": [
    {
     "output_type": "execute_result",
     "data": {
      "text/plain": [
       "(11314, 130107)"
      ]
     },
     "metadata": {},
     "execution_count": 5
    }
   ],
   "metadata": {}
  },
  {
   "cell_type": "markdown",
   "source": [
    "### Naive Bayes"
   ],
   "metadata": {}
  },
  {
   "cell_type": "code",
   "execution_count": 6,
   "source": [
    "# Utiliser Naive Bayes pour classer les fichiers\r\n",
    "clf = MultinomialNB().fit(X_train_tfidf, twenty_train.target)"
   ],
   "outputs": [],
   "metadata": {}
  },
  {
   "cell_type": "code",
   "execution_count": 7,
   "source": [
    "# Même chose mais avec une pipeline (moins de code)\r\n",
    "text_clf = Pipeline([('vect', CountVectorizer()),\r\n",
    "                     ('tfidf', TfidfTransformer()),\r\n",
    "                     ('clf', MultinomialNB()),\r\n",
    "                    ])\r\n",
    "\r\n",
    "text_clf = text_clf.fit(twenty_train.data, twenty_train.target)"
   ],
   "outputs": [],
   "metadata": {}
  },
  {
   "cell_type": "markdown",
   "source": [
    "### Mesurer la précision "
   ],
   "metadata": {}
  },
  {
   "cell_type": "code",
   "execution_count": 8,
   "source": [
    "twenty_test = fetch_20newsgroups(subset = 'test', shuffle = True)\r\n",
    "predicted = text_clf.predict(twenty_test.data)\r\n",
    "print(f'Accuracy: {np.mean(predicted == twenty_test.target)}')"
   ],
   "outputs": [
    {
     "output_type": "stream",
     "name": "stdout",
     "text": [
      "Accuracy: 0.7738980350504514\n"
     ]
    }
   ],
   "metadata": {}
  },
  {
   "cell_type": "markdown",
   "source": [
    "### Support Vector Machines (SVM)"
   ],
   "metadata": {}
  },
  {
   "cell_type": "code",
   "execution_count": 9,
   "source": [
    "text_clf_svm = Pipeline([('vect', CountVectorizer()),\r\n",
    "                         ('tfidf', TfidfTransformer()),\r\n",
    "                         ('clf-svm', SGDClassifier(loss = 'hinge', penalty = 'l2',\r\n",
    "                                                  alpha = 1e-3, random_state = 42)),\r\n",
    "                        ])"
   ],
   "outputs": [],
   "metadata": {}
  },
  {
   "cell_type": "code",
   "execution_count": 10,
   "source": [
    "_ = text_clf_svm.fit(twenty_train.data, twenty_train.target)"
   ],
   "outputs": [],
   "metadata": {}
  },
  {
   "cell_type": "markdown",
   "source": [
    "### Mesurer la précision "
   ],
   "metadata": {}
  },
  {
   "cell_type": "code",
   "execution_count": 11,
   "source": [
    "predicted_svm = text_clf_svm.predict(twenty_test.data)\r\n",
    "print(f'Accuracy: {np.mean(predicted_svm == twenty_test.target)}')"
   ],
   "outputs": [
    {
     "output_type": "stream",
     "name": "stdout",
     "text": [
      "Accuracy: 0.8240839086563994\n"
     ]
    }
   ],
   "metadata": {}
  },
  {
   "cell_type": "markdown",
   "source": [
    "### Grid Search"
   ],
   "metadata": {}
  },
  {
   "cell_type": "markdown",
   "source": [
    "### ... on Naive Bayes"
   ],
   "metadata": {}
  },
  {
   "cell_type": "code",
   "execution_count": 12,
   "source": [
    "parameters = {'vect__ngram_range': [(1, 1), (1, 2)], # Unigrammes et Bigrammes\r\n",
    "              'tfidf__use_idf': (True, False),\r\n",
    "              'clf__alpha': (1e-2, 1e-3),\r\n",
    "             }"
   ],
   "outputs": [],
   "metadata": {}
  },
  {
   "cell_type": "code",
   "execution_count": 13,
   "source": [
    "gs_clf = GridSearchCV(text_clf, parameters, n_jobs = -1)\r\n",
    "gs_clf = gs_clf.fit(twenty_train.data, twenty_train.target)"
   ],
   "outputs": [],
   "metadata": {}
  },
  {
   "cell_type": "code",
   "execution_count": 14,
   "source": [
    "print(f'Best Score: {gs_clf.best_score_}')\r\n",
    "print(f'Best Params: {gs_clf.best_params_}')"
   ],
   "outputs": [
    {
     "output_type": "stream",
     "name": "stdout",
     "text": [
      "Best Score: 0.9157684864695698\n",
      "Best Params: {'clf__alpha': 0.001, 'tfidf__use_idf': True, 'vect__ngram_range': (1, 2)}\n"
     ]
    }
   ],
   "metadata": {}
  },
  {
   "cell_type": "code",
   "execution_count": 15,
   "source": [
    "predicted_gs = gs_clf.predict(twenty_test.data)\r\n",
    "print(f'Accuracy: {np.mean(predicted_gs == twenty_test.target)}')"
   ],
   "outputs": [
    {
     "output_type": "stream",
     "name": "stdout",
     "text": [
      "Accuracy: 0.8361656930430165\n"
     ]
    }
   ],
   "metadata": {}
  },
  {
   "cell_type": "markdown",
   "source": [
    "### ... on SVM"
   ],
   "metadata": {}
  },
  {
   "cell_type": "code",
   "execution_count": 16,
   "source": [
    "parameters_svm = {'vect__ngram_range': [(1, 1), (1, 2)], # Unigrammes et Bigrammes\r\n",
    "                  'tfidf__use_idf': (True, False),\r\n",
    "                  'clf-svm__alpha': (1e-2, 1e-3),\r\n",
    "                 }"
   ],
   "outputs": [],
   "metadata": {}
  },
  {
   "cell_type": "code",
   "execution_count": 17,
   "source": [
    "gs_clf_svm = GridSearchCV(text_clf_svm, parameters_svm, n_jobs = -1)\r\n",
    "gs_clf_svm = gs_clf_svm.fit(twenty_train.data, twenty_train.target)"
   ],
   "outputs": [],
   "metadata": {}
  },
  {
   "cell_type": "code",
   "execution_count": 18,
   "source": [
    "print(f'Best Score: {gs_clf_svm.best_score_}')\r\n",
    "print(f'Best Params: {gs_clf_svm.best_params_}')"
   ],
   "outputs": [
    {
     "output_type": "stream",
     "name": "stdout",
     "text": [
      "Best Score: 0.9051618841994754\n",
      "Best Params: {'clf-svm__alpha': 0.001, 'tfidf__use_idf': True, 'vect__ngram_range': (1, 2)}\n"
     ]
    }
   ],
   "metadata": {}
  },
  {
   "cell_type": "code",
   "execution_count": 19,
   "source": [
    "predicted_svm_gs = gs_clf_svm.predict(twenty_test.data)\r\n",
    "print(f'Accuracy: {np.mean(predicted_svm_gs == twenty_test.target)}')"
   ],
   "outputs": [
    {
     "output_type": "stream",
     "name": "stdout",
     "text": [
      "Accuracy: 0.8351035581518853\n"
     ]
    }
   ],
   "metadata": {}
  },
  {
   "cell_type": "markdown",
   "source": [
    "### Enlever les Stopwords"
   ],
   "metadata": {}
  },
  {
   "cell_type": "markdown",
   "source": [
    "Les Stopwords (ou mots vides) sont les mots communs qui ne sont pas très significatifs comme \"le\", \"la\" en français et \"the\", \"then\", \"a\" en anglais.  \n",
    "Ces mots peuvent parasiter l'apprentissage de la machine et il peut donc être avantageux de les enlever."
   ],
   "metadata": {}
  },
  {
   "cell_type": "code",
   "execution_count": 20,
   "source": [
    "text_clf = Pipeline([('vect', CountVectorizer(stop_words = 'english')),\r\n",
    "                    ('tfidf', TfidfTransformer()),\r\n",
    "                    ('clf', MultinomialNB()),\r\n",
    "                    ])"
   ],
   "outputs": [],
   "metadata": {}
  },
  {
   "cell_type": "code",
   "execution_count": 21,
   "source": [
    "text_clf = text_clf.fit(twenty_train.data, twenty_train.target)"
   ],
   "outputs": [],
   "metadata": {}
  },
  {
   "cell_type": "code",
   "execution_count": 22,
   "source": [
    "twenty_test = fetch_20newsgroups(subset = 'test', shuffle = True)\r\n",
    "predicted = text_clf.predict(twenty_test.data)\r\n",
    "print(f'Accuracy: {np.mean(predicted == twenty_test.target)}')"
   ],
   "outputs": [
    {
     "output_type": "stream",
     "name": "stdout",
     "text": [
      "Accuracy: 0.8169144981412639\n"
     ]
    }
   ],
   "metadata": {}
  },
  {
   "cell_type": "markdown",
   "source": [
    "On peut voir qu'en enlevant les stopwords, la justesse du modèle Naive Bayes passe de 77 % à 81 %."
   ],
   "metadata": {}
  },
  {
   "cell_type": "markdown",
   "source": [
    "## Microsoft's support tickets"
   ],
   "metadata": {}
  },
  {
   "cell_type": "markdown",
   "source": [
    "### Importing libraries"
   ],
   "metadata": {}
  },
  {
   "cell_type": "code",
   "execution_count": 23,
   "source": [
    "# Manipulation de données, calcul et visualisation\r\n",
    "import pandas as pd\r\n",
    "import numpy as np\r\n",
    "import matplotlib.pyplot as plt\r\n",
    "\r\n",
    "# Pré traitement des données\r\n",
    "from sklearn.model_selection import train_test_split\r\n",
    "from sklearn.feature_extraction.text import CountVectorizer, TfidfTransformer\r\n",
    "from sklearn.preprocessing import OneHotEncoder\r\n",
    "from keras.preprocessing.text import Tokenizer\r\n",
    "from keras.preprocessing.sequence import pad_sequences\r\n",
    "from keras.utils.np_utils import to_categorical\r\n",
    "\r\n",
    "# Modèles\r\n",
    "from sklearn.naive_bayes import MultinomialNB\r\n",
    "from sklearn.linear_model import SGDClassifier\r\n",
    "from sklearn.model_selection import GridSearchCV\r\n",
    "from sklearn.pipeline import Pipeline\r\n",
    "# Réseau de neurones\r\n",
    "from keras.layers import LSTM, Conv1D, MaxPooling1D, Dropout\r\n",
    "from keras.layers import Dense, Input, Flatten\r\n",
    "from keras.layers import GlobalAveragePooling1D, Embedding\r\n",
    "from keras.models import Model\r\n",
    "\r\n",
    "# Métriques\r\n",
    "from sklearn.metrics import f1_score, accuracy_score, roc_auc_score, confusion_matrix, plot_confusion_matrix\r\n"
   ],
   "outputs": [],
   "metadata": {}
  },
  {
   "cell_type": "markdown",
   "source": [
    "### Loading Dataset"
   ],
   "metadata": {}
  },
  {
   "cell_type": "code",
   "execution_count": 24,
   "source": [
    "df = pd.read_csv('all_tickets.csv')\r\n",
    "df.head(3)"
   ],
   "outputs": [
    {
     "output_type": "execute_result",
     "data": {
      "text/plain": [
       "                  title                                               body  \\\n",
       "0                   NaN  hi since recruiter lead permission approve req...   \n",
       "1  connection with icon  icon dear please setup icon per icon engineers...   \n",
       "2  work experience user  work experience user hi work experience studen...   \n",
       "\n",
       "   ticket_type  category  sub_category1  sub_category2  business_service  \\\n",
       "0            1         4              2             21                71   \n",
       "1            1         6             22              7                26   \n",
       "2            1         5             13              7                32   \n",
       "\n",
       "   urgency  impact  \n",
       "0        3       4  \n",
       "1        3       4  \n",
       "2        3       4  "
      ],
      "text/html": [
       "<div>\n",
       "<style scoped>\n",
       "    .dataframe tbody tr th:only-of-type {\n",
       "        vertical-align: middle;\n",
       "    }\n",
       "\n",
       "    .dataframe tbody tr th {\n",
       "        vertical-align: top;\n",
       "    }\n",
       "\n",
       "    .dataframe thead th {\n",
       "        text-align: right;\n",
       "    }\n",
       "</style>\n",
       "<table border=\"1\" class=\"dataframe\">\n",
       "  <thead>\n",
       "    <tr style=\"text-align: right;\">\n",
       "      <th></th>\n",
       "      <th>title</th>\n",
       "      <th>body</th>\n",
       "      <th>ticket_type</th>\n",
       "      <th>category</th>\n",
       "      <th>sub_category1</th>\n",
       "      <th>sub_category2</th>\n",
       "      <th>business_service</th>\n",
       "      <th>urgency</th>\n",
       "      <th>impact</th>\n",
       "    </tr>\n",
       "  </thead>\n",
       "  <tbody>\n",
       "    <tr>\n",
       "      <th>0</th>\n",
       "      <td>NaN</td>\n",
       "      <td>hi since recruiter lead permission approve req...</td>\n",
       "      <td>1</td>\n",
       "      <td>4</td>\n",
       "      <td>2</td>\n",
       "      <td>21</td>\n",
       "      <td>71</td>\n",
       "      <td>3</td>\n",
       "      <td>4</td>\n",
       "    </tr>\n",
       "    <tr>\n",
       "      <th>1</th>\n",
       "      <td>connection with icon</td>\n",
       "      <td>icon dear please setup icon per icon engineers...</td>\n",
       "      <td>1</td>\n",
       "      <td>6</td>\n",
       "      <td>22</td>\n",
       "      <td>7</td>\n",
       "      <td>26</td>\n",
       "      <td>3</td>\n",
       "      <td>4</td>\n",
       "    </tr>\n",
       "    <tr>\n",
       "      <th>2</th>\n",
       "      <td>work experience user</td>\n",
       "      <td>work experience user hi work experience studen...</td>\n",
       "      <td>1</td>\n",
       "      <td>5</td>\n",
       "      <td>13</td>\n",
       "      <td>7</td>\n",
       "      <td>32</td>\n",
       "      <td>3</td>\n",
       "      <td>4</td>\n",
       "    </tr>\n",
       "  </tbody>\n",
       "</table>\n",
       "</div>"
      ]
     },
     "metadata": {},
     "execution_count": 24
    }
   ],
   "metadata": {}
  },
  {
   "cell_type": "markdown",
   "source": [
    "### Data Exploration"
   ],
   "metadata": {}
  },
  {
   "cell_type": "code",
   "execution_count": 25,
   "source": [
    "print(df.shape)"
   ],
   "outputs": [
    {
     "output_type": "stream",
     "name": "stdout",
     "text": [
      "(48549, 9)\n"
     ]
    }
   ],
   "metadata": {}
  },
  {
   "cell_type": "markdown",
   "source": [
    "On a 48 549 lignes pour 9 colonnes."
   ],
   "metadata": {}
  },
  {
   "cell_type": "code",
   "execution_count": 26,
   "source": [
    "print(df.dtypes)"
   ],
   "outputs": [
    {
     "output_type": "stream",
     "name": "stdout",
     "text": [
      "title               object\n",
      "body                object\n",
      "ticket_type          int64\n",
      "category             int64\n",
      "sub_category1        int64\n",
      "sub_category2        int64\n",
      "business_service     int64\n",
      "urgency              int64\n",
      "impact               int64\n",
      "dtype: object\n"
     ]
    }
   ],
   "metadata": {
    "scrolled": true
   }
  },
  {
   "cell_type": "markdown",
   "source": [
    "Toutes les variables sont des nombres entiers (int) à part title et body qui sont des \"object\", ce devraient être des string mais cela signifie qu'il y a certainement des valeurs manquantes NaN (Not a Number) comme on peut le voir pour la première valeur de title."
   ],
   "metadata": {}
  },
  {
   "cell_type": "code",
   "execution_count": 27,
   "source": [
    "print(df.info())"
   ],
   "outputs": [
    {
     "output_type": "stream",
     "name": "stdout",
     "text": [
      "<class 'pandas.core.frame.DataFrame'>\n",
      "RangeIndex: 48549 entries, 0 to 48548\n",
      "Data columns (total 9 columns):\n",
      " #   Column            Non-Null Count  Dtype \n",
      "---  ------            --------------  ----- \n",
      " 0   title             47837 non-null  object\n",
      " 1   body              48549 non-null  object\n",
      " 2   ticket_type       48549 non-null  int64 \n",
      " 3   category          48549 non-null  int64 \n",
      " 4   sub_category1     48549 non-null  int64 \n",
      " 5   sub_category2     48549 non-null  int64 \n",
      " 6   business_service  48549 non-null  int64 \n",
      " 7   urgency           48549 non-null  int64 \n",
      " 8   impact            48549 non-null  int64 \n",
      "dtypes: int64(7), object(2)\n",
      "memory usage: 3.3+ MB\n",
      "None\n"
     ]
    }
   ],
   "metadata": {
    "scrolled": true
   }
  },
  {
   "cell_type": "code",
   "execution_count": 28,
   "source": [
    "df.nunique(axis = 0)"
   ],
   "outputs": [
    {
     "output_type": "execute_result",
     "data": {
      "text/plain": [
       "title               30118\n",
       "body                48549\n",
       "ticket_type             2\n",
       "category               13\n",
       "sub_category1          59\n",
       "sub_category2         115\n",
       "business_service      103\n",
       "urgency                 4\n",
       "impact                  5\n",
       "dtype: int64"
      ]
     },
     "metadata": {},
     "execution_count": 28
    }
   ],
   "metadata": {
    "scrolled": true
   }
  },
  {
   "cell_type": "markdown",
   "source": [
    "On a 2 types de tickets, 13 catégories, 59 sous-catégories et 115 sous-catégories de niveau 2, 4 niveau d'urgence et 5 catégories d'impact.  \n",
    "On remarque que l'on n'a pas de message dupliqué mais qu'il manque des titres."
   ],
   "metadata": {}
  },
  {
   "cell_type": "code",
   "execution_count": 29,
   "source": [
    "print('Nombre de tickets manquants :')\r\n",
    "print(len(df[df['body'].isnull() == True]))"
   ],
   "outputs": [
    {
     "output_type": "stream",
     "name": "stdout",
     "text": [
      "Nombre de tickets manquants :\n",
      "0\n"
     ]
    }
   ],
   "metadata": {}
  },
  {
   "cell_type": "code",
   "execution_count": 30,
   "source": [
    "print('Nombre de titres manquants :')\r\n",
    "print(len(df[df['title'].isnull() == True]))"
   ],
   "outputs": [
    {
     "output_type": "stream",
     "name": "stdout",
     "text": [
      "Nombre de titres manquants :\n",
      "712\n"
     ]
    }
   ],
   "metadata": {}
  },
  {
   "cell_type": "code",
   "execution_count": 31,
   "source": [
    "print(df['ticket_type'].value_counts())"
   ],
   "outputs": [
    {
     "output_type": "stream",
     "name": "stdout",
     "text": [
      "1    34621\n",
      "0    13928\n",
      "Name: ticket_type, dtype: int64\n"
     ]
    }
   ],
   "metadata": {
    "scrolled": true
   }
  },
  {
   "cell_type": "markdown",
   "source": [
    "On peut voir que la distribution entre les deux types de tickets n'est pas équilibrée."
   ],
   "metadata": {}
  },
  {
   "cell_type": "code",
   "execution_count": 32,
   "source": [
    "print(df['category'].value_counts())"
   ],
   "outputs": [
    {
     "output_type": "stream",
     "name": "stdout",
     "text": [
      "4     34061\n",
      "5      9634\n",
      "6      2628\n",
      "7       921\n",
      "11      612\n",
      "8       239\n",
      "9       191\n",
      "3       137\n",
      "1        72\n",
      "12       45\n",
      "0         4\n",
      "2         3\n",
      "10        2\n",
      "Name: category, dtype: int64\n"
     ]
    }
   ],
   "metadata": {}
  },
  {
   "cell_type": "code",
   "execution_count": 33,
   "source": [
    "plt.hist(df['category'])\r\n",
    "plt.show()"
   ],
   "outputs": [
    {
     "output_type": "display_data",
     "data": {
      "text/plain": [
       "<Figure size 432x288 with 1 Axes>"
      ],
      "image/png": "[encoded data removed]"
     },
     "metadata": {
      "needs_background": "light"
     }
    }
   ],
   "metadata": {
    "scrolled": true
   }
  },
  {
   "cell_type": "markdown",
   "source": [
    "La distribution entre les catégories est disparate également. On a principalement des tickets de catégories 4, 5 et 6."
   ],
   "metadata": {}
  },
  {
   "cell_type": "code",
   "execution_count": 34,
   "source": [
    "print(df['urgency'].value_counts())"
   ],
   "outputs": [
    {
     "output_type": "stream",
     "name": "stdout",
     "text": [
      "3    34621\n",
      "1     6748\n",
      "2     5528\n",
      "0     1652\n",
      "Name: urgency, dtype: int64\n"
     ]
    }
   ],
   "metadata": {}
  },
  {
   "cell_type": "markdown",
   "source": [
    "Idem pour les urgences."
   ],
   "metadata": {}
  },
  {
   "cell_type": "code",
   "execution_count": 35,
   "source": [
    "print(df['impact'].value_counts())"
   ],
   "outputs": [
    {
     "output_type": "stream",
     "name": "stdout",
     "text": [
      "4    34621\n",
      "3    13184\n",
      "0      471\n",
      "2      228\n",
      "1       45\n",
      "Name: impact, dtype: int64\n"
     ]
    }
   ],
   "metadata": {
    "scrolled": true
   }
  },
  {
   "cell_type": "markdown",
   "source": [
    "Idem pour les impacts."
   ],
   "metadata": {}
  },
  {
   "cell_type": "markdown",
   "source": [
    "### Data Pre Processing"
   ],
   "metadata": {}
  },
  {
   "cell_type": "markdown",
   "source": [
    "On isole les catégories cibles dans un dataframe."
   ],
   "metadata": {}
  },
  {
   "cell_type": "code",
   "execution_count": 36,
   "source": [
    "y = pd.DataFrame(df['category'])\r\n",
    "y.head(3)"
   ],
   "outputs": [
    {
     "output_type": "execute_result",
     "data": {
      "text/plain": [
       "   category\n",
       "0         4\n",
       "1         6\n",
       "2         5"
      ],
      "text/html": [
       "<div>\n",
       "<style scoped>\n",
       "    .dataframe tbody tr th:only-of-type {\n",
       "        vertical-align: middle;\n",
       "    }\n",
       "\n",
       "    .dataframe tbody tr th {\n",
       "        vertical-align: top;\n",
       "    }\n",
       "\n",
       "    .dataframe thead th {\n",
       "        text-align: right;\n",
       "    }\n",
       "</style>\n",
       "<table border=\"1\" class=\"dataframe\">\n",
       "  <thead>\n",
       "    <tr style=\"text-align: right;\">\n",
       "      <th></th>\n",
       "      <th>category</th>\n",
       "    </tr>\n",
       "  </thead>\n",
       "  <tbody>\n",
       "    <tr>\n",
       "      <th>0</th>\n",
       "      <td>4</td>\n",
       "    </tr>\n",
       "    <tr>\n",
       "      <th>1</th>\n",
       "      <td>6</td>\n",
       "    </tr>\n",
       "    <tr>\n",
       "      <th>2</th>\n",
       "      <td>5</td>\n",
       "    </tr>\n",
       "  </tbody>\n",
       "</table>\n",
       "</div>"
      ]
     },
     "metadata": {},
     "execution_count": 36
    }
   ],
   "metadata": {
    "scrolled": true
   }
  },
  {
   "cell_type": "markdown",
   "source": [
    "Idem pour le contenu des tickets. Ce sont les messages des utilisateurs sur lesquels on va baser notre prédiction."
   ],
   "metadata": {}
  },
  {
   "cell_type": "code",
   "execution_count": 37,
   "source": [
    "X = pd.DataFrame(df['body'])\r\n",
    "X.head(3)"
   ],
   "outputs": [
    {
     "output_type": "execute_result",
     "data": {
      "text/plain": [
       "                                                body\n",
       "0  hi since recruiter lead permission approve req...\n",
       "1  icon dear please setup icon per icon engineers...\n",
       "2  work experience user hi work experience studen..."
      ],
      "text/html": [
       "<div>\n",
       "<style scoped>\n",
       "    .dataframe tbody tr th:only-of-type {\n",
       "        vertical-align: middle;\n",
       "    }\n",
       "\n",
       "    .dataframe tbody tr th {\n",
       "        vertical-align: top;\n",
       "    }\n",
       "\n",
       "    .dataframe thead th {\n",
       "        text-align: right;\n",
       "    }\n",
       "</style>\n",
       "<table border=\"1\" class=\"dataframe\">\n",
       "  <thead>\n",
       "    <tr style=\"text-align: right;\">\n",
       "      <th></th>\n",
       "      <th>body</th>\n",
       "    </tr>\n",
       "  </thead>\n",
       "  <tbody>\n",
       "    <tr>\n",
       "      <th>0</th>\n",
       "      <td>hi since recruiter lead permission approve req...</td>\n",
       "    </tr>\n",
       "    <tr>\n",
       "      <th>1</th>\n",
       "      <td>icon dear please setup icon per icon engineers...</td>\n",
       "    </tr>\n",
       "    <tr>\n",
       "      <th>2</th>\n",
       "      <td>work experience user hi work experience studen...</td>\n",
       "    </tr>\n",
       "  </tbody>\n",
       "</table>\n",
       "</div>"
      ]
     },
     "metadata": {},
     "execution_count": 37
    }
   ],
   "metadata": {
    "scrolled": true
   }
  },
  {
   "cell_type": "markdown",
   "source": [
    "On sépare les données en jeux d'entraînement et de test."
   ],
   "metadata": {}
  },
  {
   "cell_type": "code",
   "execution_count": 38,
   "source": [
    "X_train, X_test, y_train, y_test = train_test_split(X['body'], y, \r\n",
    "                                   test_size=0.4, \r\n",
    "                                   random_state=42)"
   ],
   "outputs": [],
   "metadata": {}
  },
  {
   "cell_type": "code",
   "execution_count": 39,
   "source": [
    "print(f'X Shape: {X_train.shape}')\r\n",
    "print(f'y Shape: {y_train.shape}')"
   ],
   "outputs": [
    {
     "output_type": "stream",
     "name": "stdout",
     "text": [
      "X Shape: (29129,)\n",
      "y Shape: (29129, 1)\n"
     ]
    }
   ],
   "metadata": {}
  },
  {
   "cell_type": "markdown",
   "source": [
    "On vectorise les textes."
   ],
   "metadata": {}
  },
  {
   "cell_type": "code",
   "execution_count": 40,
   "source": [
    "cv = CountVectorizer()\r\n",
    "X_train_tf = cv.fit_transform(X_train)\r\n",
    "X_train_tf.shape"
   ],
   "outputs": [
    {
     "output_type": "execute_result",
     "data": {
      "text/plain": [
       "(29129, 10739)"
      ]
     },
     "metadata": {},
     "execution_count": 40
    }
   ],
   "metadata": {}
  },
  {
   "cell_type": "markdown",
   "source": [
    "On applique \"term-frequency times inverse document-frequency\" pour normaliser la matrice de mot. De cette façon le modèle ne sera pas biaisé par les mots très fréquents ou les documents anormalement longs."
   ],
   "metadata": {}
  },
  {
   "cell_type": "code",
   "execution_count": 41,
   "source": [
    "tfidf_transformer = TfidfTransformer()\r\n",
    "X_train_tfidf= tfidf_transformer.fit_transform(X_train_tf)\r\n",
    "X_train_tfidf.shape"
   ],
   "outputs": [
    {
     "output_type": "execute_result",
     "data": {
      "text/plain": [
       "(29129, 10739)"
      ]
     },
     "metadata": {},
     "execution_count": 41
    }
   ],
   "metadata": {}
  },
  {
   "cell_type": "markdown",
   "source": [
    "### Modèle"
   ],
   "metadata": {}
  },
  {
   "cell_type": "markdown",
   "source": [
    "#### Multinomial Naive Bayes"
   ],
   "metadata": {}
  },
  {
   "cell_type": "markdown",
   "source": [
    "L'algorithme Multinomial Naive Bayes s'applique lorsque les vecteurs représentent la fréquence d'apparition d'un terme pour pouvoir labéliser ces vecteurs. C'est notre cas."
   ],
   "metadata": {}
  },
  {
   "cell_type": "code",
   "execution_count": 42,
   "source": [
    "mnb = MultinomialNB()\r\n",
    "mnb.fit(X_train_tfidf, y_train)"
   ],
   "outputs": [
    {
     "output_type": "stream",
     "name": "stderr",
     "text": [
      "C:\\Users\\Juliette\\Documents\\SPIE\\Classifier\\.env\\lib\\site-packages\\sklearn\\utils\\validation.py:63: DataConversionWarning: A column-vector y was passed when a 1d array was expected. Please change the shape of y to (n_samples, ), for example using ravel().\n",
      "  return f(*args, **kwargs)\n"
     ]
    },
    {
     "output_type": "execute_result",
     "data": {
      "text/plain": [
       "MultinomialNB()"
      ]
     },
     "metadata": {},
     "execution_count": 42
    }
   ],
   "metadata": {
    "scrolled": true
   }
  },
  {
   "cell_type": "code",
   "execution_count": 43,
   "source": [
    "X_test_tf = cv.transform(X_test)\r\n",
    "X_test_tfidf = tfidf_transformer.transform(X_test_tf)\r\n",
    "pred = mnb.predict(X_test_tfidf)"
   ],
   "outputs": [],
   "metadata": {}
  },
  {
   "cell_type": "code",
   "execution_count": 44,
   "source": [
    "pred_auc = to_categorical(np.asarray(pred), num_classes=13)"
   ],
   "outputs": [],
   "metadata": {}
  },
  {
   "cell_type": "code",
   "execution_count": 45,
   "source": [
    "print(f'F1 Score : {(f1_score(y_test, pred, average = \"weighted\"))}')\r\n",
    "print(f\"Test auc : {roc_auc_score(y_test, pred_auc, multi_class='ovr')}\")\r\n",
    "print(f'Accuracy : {(accuracy_score(y_test, pred))}')"
   ],
   "outputs": [
    {
     "output_type": "stream",
     "name": "stdout",
     "text": [
      "F1 Score : 0.7562278308365803\n",
      "Test auc : 0.545313834109828\n",
      "Accuracy : 0.8038105046343975\n"
     ]
    }
   ],
   "metadata": {
    "scrolled": true
   }
  },
  {
   "cell_type": "markdown",
   "source": [
    "#### GridSearch sur MultinomialNB"
   ],
   "metadata": {}
  },
  {
   "cell_type": "markdown",
   "source": [
    "Cette fois-ci on enlève les Stopwords."
   ],
   "metadata": {}
  },
  {
   "cell_type": "code",
   "execution_count": 46,
   "source": [
    "text_clf = Pipeline([('vect', CountVectorizer(stop_words = 'english', ngram_range = (1,2))),\r\n",
    "                     ('tfidf', TfidfTransformer()),\r\n",
    "                     ('clf', MultinomialNB()),\r\n",
    "                    ])"
   ],
   "outputs": [],
   "metadata": {}
  },
  {
   "cell_type": "code",
   "execution_count": 47,
   "source": [
    "parameters = {'vect__ngram_range': [(1, 1), (1, 2)], # Unigrammes et Bigrammes\r\n",
    "              'clf__alpha': (1e-2, 1e-3),\r\n",
    "             }\r\n",
    "\r\n",
    "gs_clf = GridSearchCV(text_clf, parameters, n_jobs = -1)\r\n",
    "gs_clf = gs_clf.fit(X_train, y_train)\r\n",
    "\r\n",
    "print(f'Best Score: {gs_clf.best_score_}')\r\n",
    "print(f'Best Params: {gs_clf.best_params_}')\r\n",
    "\r\n",
    "predicted_gs = gs_clf.predict(X_test)"
   ],
   "outputs": [
    {
     "output_type": "stream",
     "name": "stderr",
     "text": [
      "C:\\Users\\Juliette\\Documents\\SPIE\\Classifier\\.env\\lib\\site-packages\\sklearn\\model_selection\\_split.py:666: UserWarning: The least populated class in y has only 2 members, which is less than n_splits=5.\n",
      "  warnings.warn((\"The least populated class in y has only %d\"\n",
      "C:\\Users\\Juliette\\Documents\\SPIE\\Classifier\\.env\\lib\\site-packages\\sklearn\\utils\\validation.py:63: DataConversionWarning: A column-vector y was passed when a 1d array was expected. Please change the shape of y to (n_samples, ), for example using ravel().\n",
      "  return f(*args, **kwargs)\n"
     ]
    },
    {
     "output_type": "stream",
     "name": "stdout",
     "text": [
      "Best Score: 0.8477119321555436\n",
      "Best Params: {'clf__alpha': 0.01, 'vect__ngram_range': (1, 2)}\n"
     ]
    }
   ],
   "metadata": {}
  },
  {
   "cell_type": "code",
   "execution_count": 48,
   "source": [
    "print(f'F1 Score: {f1_score(y_test[\"category\"], predicted_gs, average = \"weighted\")}')\r\n",
    "pred_auc = to_categorical(np.asarray(predicted_gs), num_classes=13)\r\n",
    "print(f\"Test auc : {roc_auc_score(y_test, pred_auc, multi_class='ovr')}\")\r\n",
    "print(f'Accuracy : {np.mean(predicted_gs == y_test[\"category\"])}')"
   ],
   "outputs": [
    {
     "output_type": "stream",
     "name": "stdout",
     "text": [
      "F1 Score: 0.8364651567419628\n",
      "Test auc : 0.6562449862626472\n",
      "Accuracy : 0.8465499485066942\n"
     ]
    }
   ],
   "metadata": {}
  },
  {
   "cell_type": "markdown",
   "source": [
    "Cette fois-ci l'accuracy et le F1 sont meilleurs ce qui signifie que Recall et Precision sont également meilleurs."
   ],
   "metadata": {}
  },
  {
   "cell_type": "code",
   "execution_count": 49,
   "source": [
    "fig, ax = plt.subplots(figsize=(24, 20))\r\n",
    "plot_confusion_matrix(gs_clf, X_test, y_test, ax = ax)\r\n",
    "plt.show()"
   ],
   "outputs": [
    {
     "output_type": "display_data",
     "data": {
      "text/plain": [
       "<Figure size 1728x1440 with 2 Axes>"
      ],
      "image/png": "[encoded data removed]"
     },
     "metadata": {
      "needs_background": "light"
     }
    }
   ],
   "metadata": {}
  },
  {
   "cell_type": "markdown",
   "source": [
    "Même si l'accuracy est de 84 %, on peut voir avec la matrice de confusion qu'il y a des erreurs de catégorisation, notamment avec la classe 4 qui est bien plus peuplée que les autres.   \n",
    "Le Score F1 (qui est une fonction de Precision et Recall) reste par ailleurs bon. "
   ],
   "metadata": {}
  },
  {
   "cell_type": "markdown",
   "source": [
    "#### SVM"
   ],
   "metadata": {}
  },
  {
   "cell_type": "code",
   "execution_count": 50,
   "source": [
    "tickets_clf_svm = Pipeline([('vect', CountVectorizer(stop_words = 'english', ngram_range = (1,2))),\r\n",
    "                        ('tfidf', TfidfTransformer()),\r\n",
    "                         ('clf-svm', SGDClassifier(loss = 'hinge', penalty = 'l2',\r\n",
    "                                                  alpha = 1e-3, random_state = 42)),\r\n",
    "                        ])"
   ],
   "outputs": [],
   "metadata": {}
  },
  {
   "cell_type": "code",
   "execution_count": 51,
   "source": [
    "tickets_clf_svm.fit(X_train, y_train)"
   ],
   "outputs": [
    {
     "output_type": "stream",
     "name": "stderr",
     "text": [
      "C:\\Users\\Juliette\\Documents\\SPIE\\Classifier\\.env\\lib\\site-packages\\sklearn\\utils\\validation.py:63: DataConversionWarning: A column-vector y was passed when a 1d array was expected. Please change the shape of y to (n_samples, ), for example using ravel().\n",
      "  return f(*args, **kwargs)\n"
     ]
    },
    {
     "output_type": "execute_result",
     "data": {
      "text/plain": [
       "Pipeline(steps=[('vect',\n",
       "                 CountVectorizer(ngram_range=(1, 2), stop_words='english')),\n",
       "                ('tfidf', TfidfTransformer()),\n",
       "                ('clf-svm', SGDClassifier(alpha=0.001, random_state=42))])"
      ]
     },
     "metadata": {},
     "execution_count": 51
    }
   ],
   "metadata": {}
  },
  {
   "cell_type": "code",
   "execution_count": 52,
   "source": [
    "pred_svm = tickets_clf_svm.predict(X_test)\r\n",
    "pred_auc = to_categorical(np.asarray(pred_svm), num_classes=13)\r\n",
    "print(f\"Test auc : {roc_auc_score(y_test, pred_auc, multi_class='ovr')}\")\r\n",
    "print(f'F1 Score: {(f1_score(y_test, pred_svm, average = \"weighted\"))}')\r\n",
    "print(f'Accuracy: {(accuracy_score(y_test, pred_svm))}')"
   ],
   "outputs": [
    {
     "output_type": "stream",
     "name": "stdout",
     "text": [
      "Test auc : 0.5382778327099887\n",
      "F1 Score: 0.6880660497028366\n",
      "Accuracy: 0.7579814624098867\n"
     ]
    }
   ],
   "metadata": {}
  },
  {
   "cell_type": "markdown",
   "source": [
    "Svm est moins performant que MultibinomialNB."
   ],
   "metadata": {}
  },
  {
   "cell_type": "markdown",
   "source": [
    "#### GridSearch sur SVM"
   ],
   "metadata": {}
  },
  {
   "cell_type": "code",
   "execution_count": 53,
   "source": [
    "parameters_svm = {'tfidf__use_idf': (True, False),\r\n",
    "                  'clf-svm__alpha': (1e-2, 1e-3),\r\n",
    "                 }\r\n",
    "\r\n",
    "gs_clf_svm = GridSearchCV(tickets_clf_svm, parameters_svm, n_jobs = -1)\r\n",
    "gs_clf_svm = gs_clf_svm.fit(X_train, y_train)\r\n",
    "\r\n",
    "print(f'Best Score: {gs_clf_svm.best_score_}')\r\n",
    "print(f'Best Params: {gs_clf_svm.best_params_}')\r\n",
    "\r\n",
    "predicted_svm_gs = gs_clf_svm.predict(X_test)"
   ],
   "outputs": [
    {
     "output_type": "stream",
     "name": "stderr",
     "text": [
      "C:\\Users\\Juliette\\Documents\\SPIE\\Classifier\\.env\\lib\\site-packages\\sklearn\\model_selection\\_split.py:666: UserWarning: The least populated class in y has only 2 members, which is less than n_splits=5.\n",
      "  warnings.warn((\"The least populated class in y has only %d\"\n",
      "C:\\Users\\Juliette\\Documents\\SPIE\\Classifier\\.env\\lib\\site-packages\\sklearn\\utils\\validation.py:63: DataConversionWarning: A column-vector y was passed when a 1d array was expected. Please change the shape of y to (n_samples, ), for example using ravel().\n",
      "  return f(*args, **kwargs)\n"
     ]
    },
    {
     "output_type": "stream",
     "name": "stdout",
     "text": [
      "Best Score: 0.781557906027295\n",
      "Best Params: {'clf-svm__alpha': 0.001, 'tfidf__use_idf': False}\n"
     ]
    }
   ],
   "metadata": {}
  },
  {
   "cell_type": "code",
   "execution_count": 54,
   "source": [
    "print(f'F1 Score: {(f1_score(y_test, predicted_svm_gs, average = \"weighted\"))}')\r\n",
    "pred_auc = to_categorical(np.asarray(predicted_svm_gs), num_classes=13)\r\n",
    "print(f\"Test auc : {roc_auc_score(y_test, pred_auc, multi_class='ovr')}\")\r\n",
    "print(f'Accuracy: {np.mean(predicted_svm_gs == y_test[\"category\"])}')"
   ],
   "outputs": [
    {
     "output_type": "stream",
     "name": "stdout",
     "text": [
      "F1 Score: 0.7096302911499649\n",
      "Test auc : 0.5444418666921483\n",
      "Accuracy: 0.7716786817713697\n"
     ]
    }
   ],
   "metadata": {}
  },
  {
   "cell_type": "markdown",
   "source": [
    "#### Réseau de neurones"
   ],
   "metadata": {}
  },
  {
   "cell_type": "code",
   "execution_count": 55,
   "source": [
    "MAX_NB_WORDS = 20000\r\n",
    "\r\n",
    "X_train = X_train.astype(str)\r\n",
    "X_test = X_test.astype(str)\r\n",
    "\r\n",
    "# vectorize the text samples into a 2D integer tensor\r\n",
    "tokenizer = Tokenizer(num_words=MAX_NB_WORDS, char_level=False)\r\n",
    "tokenizer.fit_on_texts(X_train)\r\n",
    "sequences = tokenizer.texts_to_sequences(X_train)\r\n",
    "sequences_test = tokenizer.texts_to_sequences(X_test)\r\n",
    "\r\n",
    "word_index = tokenizer.word_index\r\n",
    "print(f'{len(word_index)} mots différents.')"
   ],
   "outputs": [
    {
     "output_type": "stream",
     "name": "stdout",
     "text": [
      "10739 mots différents.\n"
     ]
    }
   ],
   "metadata": {}
  },
  {
   "cell_type": "code",
   "execution_count": 56,
   "source": [
    "sequences[0]"
   ],
   "outputs": [
    {
     "output_type": "execute_result",
     "data": {
      "text/plain": [
       "[36,\n",
       " 78,\n",
       " 35,\n",
       " 6,\n",
       " 35,\n",
       " 66,\n",
       " 320,\n",
       " 4148,\n",
       " 1598,\n",
       " 2991,\n",
       " 876,\n",
       " 528,\n",
       " 1896,\n",
       " 733,\n",
       " 653,\n",
       " 2750,\n",
       " 53,\n",
       " 908,\n",
       " 3158,\n",
       " 2992,\n",
       " 2577,\n",
       " 1,\n",
       " 32,\n",
       " 30,\n",
       " 530,\n",
       " 45,\n",
       " 27]"
      ]
     },
     "metadata": {},
     "execution_count": 56
    }
   ],
   "metadata": {}
  },
  {
   "cell_type": "markdown",
   "source": [
    "Le tokenizer stocke une correspondance (mapping) entre les chaînes de mots et les identifiants des tokens. On peut ainsi reconstruire le message original."
   ],
   "metadata": {}
  },
  {
   "cell_type": "code",
   "execution_count": 57,
   "source": [
    "type(tokenizer.word_index), len(tokenizer.word_index)"
   ],
   "outputs": [
    {
     "output_type": "execute_result",
     "data": {
      "text/plain": [
       "(dict, 10739)"
      ]
     },
     "metadata": {},
     "execution_count": 57
    }
   ],
   "metadata": {}
  },
  {
   "cell_type": "code",
   "execution_count": 58,
   "source": [
    "index_to_word = dict((i, w) for w, i in tokenizer.word_index.items())"
   ],
   "outputs": [],
   "metadata": {}
  },
  {
   "cell_type": "code",
   "execution_count": 59,
   "source": [
    "\" \".join([index_to_word[i] for i in sequences[0]])"
   ],
   "outputs": [
    {
     "output_type": "execute_result",
     "data": {
      "text/plain": [
       "'october cannot change hello change work keep noticing meet length requirements believe privacy policy least characters number special character upper letter please let issue cheers senior engineer'"
      ]
     },
     "metadata": {},
     "execution_count": 59
    }
   ],
   "metadata": {}
  },
  {
   "cell_type": "code",
   "execution_count": 60,
   "source": [
    "X_train.head(1)"
   ],
   "outputs": [
    {
     "output_type": "execute_result",
     "data": {
      "text/plain": [
       "27783    october cannot change hello change work keep n...\n",
       "Name: body, dtype: object"
      ]
     },
     "metadata": {},
     "execution_count": 60
    }
   ],
   "metadata": {}
  },
  {
   "cell_type": "code",
   "execution_count": 61,
   "source": [
    "seq_lens = [len(s) for s in sequences]\r\n",
    "print(f\"Taille minimale de message : {min(seq_lens)}\")\r\n",
    "print(f\"Taille moyenne de message : {np.mean(seq_lens)}\")\r\n",
    "print(f\"Taille maximale de message : {max(seq_lens)}\")"
   ],
   "outputs": [
    {
     "output_type": "stream",
     "name": "stdout",
     "text": [
      "Taille minimale de message : 1\n",
      "Taille moyenne de message : 39.865632187854025\n",
      "Taille maximale de message : 952\n"
     ]
    }
   ],
   "metadata": {}
  },
  {
   "cell_type": "code",
   "execution_count": 62,
   "source": [
    "plt.hist(seq_lens, bins=50)"
   ],
   "outputs": [
    {
     "output_type": "display_data",
     "data": {
      "text/plain": [
       "<Figure size 432x288 with 1 Axes>"
      ],
      "image/png": "[encoded data removed]"
     },
     "metadata": {
      "needs_background": "light"
     }
    }
   ],
   "metadata": {}
  },
  {
   "cell_type": "markdown",
   "source": [
    "La majorité des tickets a l'air de faire moins de 200 mots."
   ],
   "metadata": {}
  },
  {
   "cell_type": "code",
   "execution_count": 63,
   "source": [
    "plt.hist([l for l in seq_lens if l < 200], bins=50)"
   ],
   "outputs": [
    {
     "output_type": "display_data",
     "data": {
      "text/plain": [
       "<Figure size 432x288 with 1 Axes>"
      ],
      "image/png": "[encoded data removed]"
     },
     "metadata": {
      "needs_background": "light"
     }
    }
   ],
   "metadata": {}
  },
  {
   "cell_type": "markdown",
   "source": [
    "Par soucis d'uniformisation, on ramène toutes les séquences à la même longueur."
   ],
   "metadata": {}
  },
  {
   "cell_type": "code",
   "execution_count": 64,
   "source": [
    "MAX_SEQUENCE_LENGTH = 150\r\n",
    "\r\n",
    "# pad sequences with 0s\r\n",
    "x_train = pad_sequences(sequences, maxlen=MAX_SEQUENCE_LENGTH)\r\n",
    "x_test = pad_sequences(sequences_test, maxlen=MAX_SEQUENCE_LENGTH)\r\n",
    "print(f'Shape du data train tensor : {x_train.shape}')\r\n",
    "print(f'Shape du data test tensor : {x_test.shape}')"
   ],
   "outputs": [
    {
     "output_type": "stream",
     "name": "stdout",
     "text": [
      "Shape du data train tensor : (29129, 150)\n",
      "Shape du data test tensor : (19420, 150)\n"
     ]
    }
   ],
   "metadata": {}
  },
  {
   "cell_type": "code",
   "execution_count": 65,
   "source": [
    "y_train = to_categorical(np.asarray(y_train))\r\n",
    "y_test = to_categorical(np.asarray(y_test))\r\n",
    "print(f'Shape du label tensor : {y_train.shape}')"
   ],
   "outputs": [
    {
     "output_type": "stream",
     "name": "stdout",
     "text": [
      "Shape du label tensor : (29129, 13)\n"
     ]
    }
   ],
   "metadata": {}
  },
  {
   "cell_type": "code",
   "execution_count": 66,
   "source": [
    "EMBEDDING_DIM = 50\r\n",
    "N_CLASSES = df['category'].nunique()\r\n",
    "\r\n",
    "sequence_input = Input(shape=(MAX_SEQUENCE_LENGTH,), dtype='int32')\r\n",
    "\r\n",
    "embedding_layer = Embedding(MAX_NB_WORDS, EMBEDDING_DIM,\r\n",
    "                            input_length=MAX_SEQUENCE_LENGTH,\r\n",
    "                            trainable=True)\r\n",
    "embedded_sequences = embedding_layer(sequence_input)\r\n",
    "\r\n",
    "average = GlobalAveragePooling1D()(embedded_sequences)\r\n",
    "predictions = Dense(N_CLASSES, activation='softmax')(average)\r\n",
    "\r\n",
    "model = Model(sequence_input, predictions)\r\n",
    "model.compile(loss='categorical_crossentropy',\r\n",
    "              optimizer='adam', metrics=['acc'])"
   ],
   "outputs": [],
   "metadata": {}
  },
  {
   "cell_type": "code",
   "execution_count": 67,
   "source": [
    "model.fit(x_train, y_train, validation_split=0.1, epochs=20, batch_size=128)"
   ],
   "outputs": [
    {
     "output_type": "stream",
     "name": "stdout",
     "text": [
      "Epoch 1/20\n",
      "205/205 [==============================] - 33s 31ms/step - loss: 2.0719 - acc: 0.6576 - val_loss: 0.9542 - val_acc: 0.7144\n",
      "Epoch 2/20\n",
      "205/205 [==============================] - 6s 27ms/step - loss: 0.9496 - acc: 0.7045 - val_loss: 0.8852 - val_acc: 0.7147\n",
      "Epoch 3/20\n",
      "205/205 [==============================] - 6s 27ms/step - loss: 0.8923 - acc: 0.7042 - val_loss: 0.8421 - val_acc: 0.7158\n",
      "Epoch 4/20\n",
      "205/205 [==============================] - 6s 28ms/step - loss: 0.8630 - acc: 0.7089 - val_loss: 0.8002 - val_acc: 0.7381\n",
      "Epoch 5/20\n",
      "205/205 [==============================] - 6s 28ms/step - loss: 0.8253 - acc: 0.7285 - val_loss: 0.7597 - val_acc: 0.7470\n",
      "Epoch 6/20\n",
      "205/205 [==============================] - 5s 26ms/step - loss: 0.7662 - acc: 0.7417 - val_loss: 0.7262 - val_acc: 0.7556\n",
      "Epoch 7/20\n",
      "205/205 [==============================] - 6s 28ms/step - loss: 0.7251 - acc: 0.7577 - val_loss: 0.6980 - val_acc: 0.7683\n",
      "Epoch 8/20\n",
      "205/205 [==============================] - 6s 27ms/step - loss: 0.6972 - acc: 0.7730 - val_loss: 0.6757 - val_acc: 0.7854\n",
      "Epoch 9/20\n",
      "205/205 [==============================] - 6s 27ms/step - loss: 0.6685 - acc: 0.7829 - val_loss: 0.6556 - val_acc: 0.7872\n",
      "Epoch 10/20\n",
      "205/205 [==============================] - 5s 25ms/step - loss: 0.6378 - acc: 0.7957 - val_loss: 0.6385 - val_acc: 0.7968\n",
      "Epoch 11/20\n",
      "205/205 [==============================] - 5s 26ms/step - loss: 0.6171 - acc: 0.8029 - val_loss: 0.6245 - val_acc: 0.8060\n",
      "Epoch 12/20\n",
      "205/205 [==============================] - 5s 25ms/step - loss: 0.5875 - acc: 0.8141 - val_loss: 0.6134 - val_acc: 0.8054\n",
      "Epoch 13/20\n",
      "205/205 [==============================] - 5s 26ms/step - loss: 0.5770 - acc: 0.8184 - val_loss: 0.6020 - val_acc: 0.8115\n",
      "Epoch 14/20\n",
      "205/205 [==============================] - 5s 25ms/step - loss: 0.5748 - acc: 0.8221 - val_loss: 0.5939 - val_acc: 0.8129\n",
      "Epoch 15/20\n",
      "205/205 [==============================] - 5s 25ms/step - loss: 0.5493 - acc: 0.8272 - val_loss: 0.5847 - val_acc: 0.8177\n",
      "Epoch 16/20\n",
      "205/205 [==============================] - 5s 26ms/step - loss: 0.5398 - acc: 0.8304 - val_loss: 0.5786 - val_acc: 0.8174\n",
      "Epoch 17/20\n",
      "205/205 [==============================] - 5s 25ms/step - loss: 0.5271 - acc: 0.8338 - val_loss: 0.5719 - val_acc: 0.8208\n",
      "Epoch 18/20\n",
      "205/205 [==============================] - 5s 25ms/step - loss: 0.5067 - acc: 0.8410 - val_loss: 0.5671 - val_acc: 0.8229\n",
      "Epoch 19/20\n",
      "205/205 [==============================] - 5s 26ms/step - loss: 0.5034 - acc: 0.8406 - val_loss: 0.5631 - val_acc: 0.8239\n",
      "Epoch 20/20\n",
      "205/205 [==============================] - 5s 25ms/step - loss: 0.4954 - acc: 0.8444 - val_loss: 0.5590 - val_acc: 0.8263\n"
     ]
    },
    {
     "output_type": "execute_result",
     "data": {
      "text/plain": [
       "<keras.callbacks.History at 0x14fbb542a30>"
      ]
     },
     "metadata": {},
     "execution_count": 67
    }
   ],
   "metadata": {}
  },
  {
   "cell_type": "code",
   "execution_count": 68,
   "source": [
    "output_test = model.predict(x_test)\r\n",
    "loss, acc = model.evaluate(x_test, y_test)\r\n",
    "print(f'Test accuracy : {acc}')\r\n",
    "print(f\"Test auc : {roc_auc_score(y_test, output_test, multi_class='ovr')}\")"
   ],
   "outputs": [
    {
     "output_type": "stream",
     "name": "stdout",
     "text": [
      "607/607 [==============================] - 2s 4ms/step - loss: 0.5695 - acc: 0.8236\n",
      "Test accuracy : 0.8235839605331421\n",
      "Test auc : 0.7622822361908159\n"
     ]
    }
   ],
   "metadata": {}
  },
  {
   "cell_type": "markdown",
   "source": [
    "#### LSTM"
   ],
   "metadata": {}
  },
  {
   "cell_type": "code",
   "execution_count": 69,
   "source": [
    "sequence_input = Input(shape=(MAX_SEQUENCE_LENGTH,), dtype='int32')\r\n",
    "embedded_sequences = embedding_layer(sequence_input)\r\n",
    "\r\n",
    "x = LSTM(128, dropout=0.2, recurrent_dropout=0.2)(embedded_sequences)\r\n",
    "predictions = Dense(N_CLASSES, activation='softmax')(x)\r\n",
    "\r\n",
    "\r\n",
    "model = Model(sequence_input, predictions)\r\n",
    "model.compile(loss='categorical_crossentropy',\r\n",
    "              optimizer='adam',\r\n",
    "              metrics=['acc'])"
   ],
   "outputs": [],
   "metadata": {}
  },
  {
   "cell_type": "code",
   "execution_count": 70,
   "source": [
    "model.fit(x_train, y_train, validation_split=0.1,\r\n",
    "          epochs=2, batch_size=128)"
   ],
   "outputs": [
    {
     "output_type": "stream",
     "name": "stdout",
     "text": [
      "Epoch 1/2\n",
      "205/205 [==============================] - 316s 1s/step - loss: 0.7920 - acc: 0.7844 - val_loss: 0.5276 - val_acc: 0.8390\n",
      "Epoch 2/2\n",
      "205/205 [==============================] - 185s 902ms/step - loss: 0.4186 - acc: 0.8664 - val_loss: 0.4942 - val_acc: 0.8314\n"
     ]
    },
    {
     "output_type": "execute_result",
     "data": {
      "text/plain": [
       "<keras.callbacks.History at 0x14fbe02f7f0>"
      ]
     },
     "metadata": {},
     "execution_count": 70
    }
   ],
   "metadata": {}
  },
  {
   "cell_type": "code",
   "execution_count": 71,
   "source": [
    "output_test = model.predict(x_test)\r\n",
    "loss, acc = model.evaluate(x_test, y_test)\r\n",
    "print(f'Test accuracy : {acc}')\r\n",
    "print(f\"Test auc: {roc_auc_score(y_test, output_test, multi_class='ovr')}\")"
   ],
   "outputs": [
    {
     "output_type": "stream",
     "name": "stdout",
     "text": [
      "607/607 [==============================] - 38s 63ms/step - loss: 0.4985 - acc: 0.8363\n",
      "Test accuracy : 0.8362512588500977\n",
      "Test auc: 0.8018389702630855\n"
     ]
    }
   ],
   "metadata": {}
  },
  {
   "cell_type": "markdown",
   "source": [
    "#### CNN-LSTM"
   ],
   "metadata": {}
  },
  {
   "cell_type": "code",
   "execution_count": 72,
   "source": [
    "# input: a sequence of MAX_SEQUENCE_LENGTH integers\r\n",
    "sequence_input = Input(shape=(MAX_SEQUENCE_LENGTH,), dtype='int32')\r\n",
    "embedded_sequences = embedding_layer(sequence_input)\r\n",
    "\r\n",
    "# 1D convolution with 64 output channels\r\n",
    "x = Conv1D(64, 5)(embedded_sequences)\r\n",
    "# MaxPool divides the length of the sequence by 5\r\n",
    "x = MaxPooling1D(5)(x)\r\n",
    "x = Dropout(0.2)(x)\r\n",
    "x = Conv1D(64, 5)(x)\r\n",
    "x = MaxPooling1D(5)(x)\r\n",
    "# LSTM layer with a hidden size of 64\r\n",
    "x = Dropout(0.2)(x)\r\n",
    "x = LSTM(64)(x)\r\n",
    "predictions = Dense(N_CLASSES, activation='softmax')(x)\r\n",
    "\r\n",
    "model = Model(sequence_input, predictions)\r\n",
    "model.compile(loss='categorical_crossentropy',\r\n",
    "              optimizer='adam',\r\n",
    "              metrics=['acc'])"
   ],
   "outputs": [],
   "metadata": {}
  },
  {
   "cell_type": "code",
   "execution_count": 73,
   "source": [
    "model.fit(x_train, y_train, validation_split=0.1,\r\n",
    "          epochs=15, batch_size=128)"
   ],
   "outputs": [
    {
     "output_type": "stream",
     "name": "stdout",
     "text": [
      "Epoch 1/15\n",
      "205/205 [==============================] - 32s 103ms/step - loss: 0.8605 - acc: 0.7698 - val_loss: 0.5064 - val_acc: 0.8345\n",
      "Epoch 2/15\n",
      "205/205 [==============================] - 19s 92ms/step - loss: 0.4458 - acc: 0.8610 - val_loss: 0.4966 - val_acc: 0.8363\n",
      "Epoch 3/15\n",
      "205/205 [==============================] - 21s 101ms/step - loss: 0.4071 - acc: 0.8680 - val_loss: 0.4832 - val_acc: 0.8404\n",
      "Epoch 4/15\n",
      "205/205 [==============================] - 18s 89ms/step - loss: 0.3833 - acc: 0.8774 - val_loss: 0.4738 - val_acc: 0.8397\n",
      "Epoch 5/15\n",
      "205/205 [==============================] - 18s 86ms/step - loss: 0.3610 - acc: 0.8821 - val_loss: 0.4761 - val_acc: 0.8393\n",
      "Epoch 6/15\n",
      "205/205 [==============================] - 18s 90ms/step - loss: 0.3579 - acc: 0.8847 - val_loss: 0.4851 - val_acc: 0.8369\n",
      "Epoch 7/15\n",
      "205/205 [==============================] - 19s 93ms/step - loss: 0.3307 - acc: 0.8919 - val_loss: 0.4888 - val_acc: 0.8383\n",
      "Epoch 8/15\n",
      "205/205 [==============================] - 21s 102ms/step - loss: 0.3145 - acc: 0.8980 - val_loss: 0.4887 - val_acc: 0.8369\n",
      "Epoch 9/15\n",
      "205/205 [==============================] - 20s 97ms/step - loss: 0.2978 - acc: 0.9013 - val_loss: 0.5058 - val_acc: 0.8400\n",
      "Epoch 10/15\n",
      "205/205 [==============================] - 18s 89ms/step - loss: 0.2786 - acc: 0.9078 - val_loss: 0.5051 - val_acc: 0.8400\n",
      "Epoch 11/15\n",
      "205/205 [==============================] - 18s 89ms/step - loss: 0.2706 - acc: 0.9136 - val_loss: 0.5291 - val_acc: 0.8414\n",
      "Epoch 12/15\n",
      "205/205 [==============================] - 20s 97ms/step - loss: 0.2455 - acc: 0.9215 - val_loss: 0.5314 - val_acc: 0.8369\n",
      "Epoch 13/15\n",
      "205/205 [==============================] - 19s 92ms/step - loss: 0.2400 - acc: 0.9205 - val_loss: 0.5568 - val_acc: 0.8335\n",
      "Epoch 14/15\n",
      "205/205 [==============================] - 20s 98ms/step - loss: 0.2201 - acc: 0.9290 - val_loss: 0.5727 - val_acc: 0.8390\n",
      "Epoch 15/15\n",
      "205/205 [==============================] - 22s 109ms/step - loss: 0.2107 - acc: 0.9327 - val_loss: 0.5826 - val_acc: 0.8328\n"
     ]
    },
    {
     "output_type": "execute_result",
     "data": {
      "text/plain": [
       "<keras.callbacks.History at 0x14fbbc318b0>"
      ]
     },
     "metadata": {},
     "execution_count": 73
    }
   ],
   "metadata": {}
  },
  {
   "cell_type": "code",
   "execution_count": 74,
   "source": [
    "output_test = model.predict(x_test)\r\n",
    "loss, acc = model.evaluate(x_test, y_test)\r\n",
    "print(f'Test accuracy : {acc}')\r\n",
    "print(f\"Test auc : {roc_auc_score(y_test, output_test, multi_class='ovr')}\")"
   ],
   "outputs": [
    {
     "output_type": "stream",
     "name": "stdout",
     "text": [
      "607/607 [==============================] - 8s 13ms/step - loss: 0.6189 - acc: 0.8256\n",
      "Test accuracy : 0.8256436586380005\n",
      "Test auc : 0.8078132981185093\n"
     ]
    }
   ],
   "metadata": {}
  },
  {
   "cell_type": "code",
   "execution_count": null,
   "source": [],
   "outputs": [],
   "metadata": {}
  }
 ],
 "metadata": {
  "kernelspec": {
   "name": "python3",
   "display_name": "Python 3.9.1 64-bit ('.env': venv)"
  },
  "language_info": {
   "codemirror_mode": {
    "name": "ipython",
    "version": 3
   },
   "file_extension": ".py",
   "mimetype": "text/x-python",
   "name": "python",
   "nbconvert_exporter": "python",
   "pygments_lexer": "ipython3",
   "version": "3.9.1"
  },
  "interpreter": {
   "hash": "e3ac7337d4adf9868df4c8c55d6d1f8a6047705f8ad25be6353b0b4ec7ce0a2a"
  }
 },
 "nbformat": 4,
 "nbformat_minor": 4
}